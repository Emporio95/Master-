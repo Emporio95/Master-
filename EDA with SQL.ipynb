{
    "cells": [
        {
            "cell_type": "code",
            "execution_count": 1,
            "metadata": {},
            "outputs": [
                {
                    "name": "stdout",
                    "output_type": "stream",
                    "text": "Collecting sqlalchemy==1.3.9\n  Downloading SQLAlchemy-1.3.9.tar.gz (6.0 MB)\n\u001b[K     |\u2588\u2588\u2588\u2588\u2588\u2588\u2588\u2588\u2588\u2588\u2588\u2588\u2588\u2588\u2588\u2588\u2588\u2588\u2588\u2588\u2588\u2588\u2588\u2588\u2588\u2588\u2588\u2588\u2588\u2588\u2588\u2588| 6.0 MB 16.0 MB/s eta 0:00:01\n\u001b[?25hBuilding wheels for collected packages: sqlalchemy\n  Building wheel for sqlalchemy (setup.py) ... \u001b[?25ldone\n\u001b[?25h  Created wheel for sqlalchemy: filename=SQLAlchemy-1.3.9-cp38-cp38-linux_x86_64.whl size=1209497 sha256=88ccf8d1434013e4e9670c249f8fbf13e7e8e5b627f004c2b78eb7f78b61cbc0\n  Stored in directory: /tmp/wsuser/.cache/pip/wheels/cb/43/46/fa638f2422554332b7865d600275b24568bf60e76104a94bb4\nSuccessfully built sqlalchemy\nInstalling collected packages: sqlalchemy\n  Attempting uninstall: sqlalchemy\n    Found existing installation: SQLAlchemy 1.4.22\n    Uninstalling SQLAlchemy-1.4.22:\n      Successfully uninstalled SQLAlchemy-1.4.22\nSuccessfully installed sqlalchemy-1.3.9\nRequirement already satisfied: ibm_db_sa in /opt/conda/envs/Python-3.8-main/lib/python3.8/site-packages (0.3.7)\nRequirement already satisfied: ibm-db>=2.0.0 in /opt/conda/envs/Python-3.8-main/lib/python3.8/site-packages (from ibm_db_sa) (3.0.4)\nRequirement already satisfied: sqlalchemy>=0.7.3 in /opt/conda/envs/Python-3.8-main/lib/python3.8/site-packages (from ibm_db_sa) (1.3.9)\nCollecting ipython-sql\n  Downloading ipython_sql-0.4.0-py3-none-any.whl (19 kB)\nRequirement already satisfied: ipython>=1.0 in /opt/conda/envs/Python-3.8-main/lib/python3.8/site-packages (from ipython-sql) (7.22.0)\nRequirement already satisfied: six in /opt/conda/envs/Python-3.8-main/lib/python3.8/site-packages (from ipython-sql) (1.15.0)\nCollecting sqlparse\n  Downloading sqlparse-0.4.2-py3-none-any.whl (42 kB)\n\u001b[K     |\u2588\u2588\u2588\u2588\u2588\u2588\u2588\u2588\u2588\u2588\u2588\u2588\u2588\u2588\u2588\u2588\u2588\u2588\u2588\u2588\u2588\u2588\u2588\u2588\u2588\u2588\u2588\u2588\u2588\u2588\u2588\u2588| 42 kB 2.3 MB/s  eta 0:00:01\n\u001b[?25hRequirement already satisfied: ipython-genutils>=0.1.0 in /opt/conda/envs/Python-3.8-main/lib/python3.8/site-packages (from ipython-sql) (0.2.0)\nRequirement already satisfied: sqlalchemy>=0.6.7 in /opt/conda/envs/Python-3.8-main/lib/python3.8/site-packages (from ipython-sql) (1.3.9)\nCollecting prettytable<1\n  Downloading prettytable-0.7.2.zip (28 kB)\nRequirement already satisfied: jedi>=0.16 in /opt/conda/envs/Python-3.8-main/lib/python3.8/site-packages (from ipython>=1.0->ipython-sql) (0.17.2)\nRequirement already satisfied: prompt-toolkit!=3.0.0,!=3.0.1,<3.1.0,>=2.0.0 in /opt/conda/envs/Python-3.8-main/lib/python3.8/site-packages (from ipython>=1.0->ipython-sql) (3.0.17)\nRequirement already satisfied: setuptools>=18.5 in /opt/conda/envs/Python-3.8-main/lib/python3.8/site-packages (from ipython>=1.0->ipython-sql) (52.0.0.post20210125)\nRequirement already satisfied: pexpect>4.3 in /opt/conda/envs/Python-3.8-main/lib/python3.8/site-packages (from ipython>=1.0->ipython-sql) (4.8.0)\nRequirement already satisfied: backcall in /opt/conda/envs/Python-3.8-main/lib/python3.8/site-packages (from ipython>=1.0->ipython-sql) (0.2.0)\nRequirement already satisfied: pygments in /opt/conda/envs/Python-3.8-main/lib/python3.8/site-packages (from ipython>=1.0->ipython-sql) (2.9.0)\nRequirement already satisfied: traitlets>=4.2 in /opt/conda/envs/Python-3.8-main/lib/python3.8/site-packages (from ipython>=1.0->ipython-sql) (5.0.5)\nRequirement already satisfied: pickleshare in /opt/conda/envs/Python-3.8-main/lib/python3.8/site-packages (from ipython>=1.0->ipython-sql) (0.7.5)\nRequirement already satisfied: decorator in /opt/conda/envs/Python-3.8-main/lib/python3.8/site-packages (from ipython>=1.0->ipython-sql) (5.0.9)\nRequirement already satisfied: parso<0.8.0,>=0.7.0 in /opt/conda/envs/Python-3.8-main/lib/python3.8/site-packages (from jedi>=0.16->ipython>=1.0->ipython-sql) (0.7.0)\nRequirement already satisfied: ptyprocess>=0.5 in /opt/conda/envs/Python-3.8-main/lib/python3.8/site-packages (from pexpect>4.3->ipython>=1.0->ipython-sql) (0.7.0)\nRequirement already satisfied: wcwidth in /opt/conda/envs/Python-3.8-main/lib/python3.8/site-packages (from prompt-toolkit!=3.0.0,!=3.0.1,<3.1.0,>=2.0.0->ipython>=1.0->ipython-sql) (0.2.5)\nBuilding wheels for collected packages: prettytable\n  Building wheel for prettytable (setup.py) ... \u001b[?25ldone\n\u001b[?25h  Created wheel for prettytable: filename=prettytable-0.7.2-py3-none-any.whl size=13700 sha256=f7a7943b24a4e59509b0b436eca4e18190478856763fac17b62f26913af1dfde\n  Stored in directory: /tmp/wsuser/.cache/pip/wheels/48/6d/77/9517cb933af254f51a446f1a5ec9c2be3e45f17384940bce68\nSuccessfully built prettytable\nInstalling collected packages: sqlparse, prettytable, ipython-sql\nSuccessfully installed ipython-sql-0.4.0 prettytable-0.7.2 sqlparse-0.4.2\n"
                }
            ],
            "source": "!pip install sqlalchemy==1.3.9\n!pip install ibm_db_sa\n!pip install ipython-sql"
        },
        {
            "cell_type": "code",
            "execution_count": 2,
            "metadata": {},
            "outputs": [],
            "source": "%load_ext sql"
        },
        {
            "cell_type": "code",
            "execution_count": 3,
            "metadata": {},
            "outputs": [],
            "source": "%sql ibm_db_sa://yky11434:VuIophu6J3aNC7B5@fbd88901-ebdb-4a4f-a32e-9822b9fb237b.c1ogj3sd0tgtu0lqde00.databases.appdomain.cloud:32731/bludb?security=SSL"
        },
        {
            "cell_type": "markdown",
            "metadata": {},
            "source": "## Task 1"
        },
        {
            "cell_type": "markdown",
            "metadata": {},
            "source": "Display the names of the unique launch sites in the space mission"
        },
        {
            "cell_type": "code",
            "execution_count": 4,
            "metadata": {},
            "outputs": [
                {
                    "name": "stdout",
                    "output_type": "stream",
                    "text": " * ibm_db_sa://yky11434:***@fbd88901-ebdb-4a4f-a32e-9822b9fb237b.c1ogj3sd0tgtu0lqde00.databases.appdomain.cloud:32731/bludb\nDone.\n"
                },
                {
                    "data": {
                        "text/html": "<table>\n    <tr>\n        <th>1</th>\n    </tr>\n    <tr>\n        <td>101</td>\n    </tr>\n</table>",
                        "text/plain": "[(101,)]"
                    },
                    "execution_count": 4,
                    "metadata": {},
                    "output_type": "execute_result"
                }
            ],
            "source": "%%sql \nSELECT COUNT(*) FROM SPACEXTBL;"
        },
        {
            "cell_type": "code",
            "execution_count": 7,
            "metadata": {},
            "outputs": [
                {
                    "name": "stdout",
                    "output_type": "stream",
                    "text": " * ibm_db_sa://yky11434:***@fbd88901-ebdb-4a4f-a32e-9822b9fb237b.c1ogj3sd0tgtu0lqde00.databases.appdomain.cloud:32731/bludb\nDone.\n"
                },
                {
                    "data": {
                        "text/html": "<table>\n    <tr>\n        <th>launch_site</th>\n    </tr>\n    <tr>\n        <td>CCAFS LC-40</td>\n    </tr>\n    <tr>\n        <td>CCAFS SLC-40</td>\n    </tr>\n    <tr>\n        <td>KSC LC-39A</td>\n    </tr>\n    <tr>\n        <td>VAFB SLC-4E</td>\n    </tr>\n</table>",
                        "text/plain": "[('CCAFS LC-40',), ('CCAFS SLC-40',), ('KSC LC-39A',), ('VAFB SLC-4E',)]"
                    },
                    "execution_count": 7,
                    "metadata": {},
                    "output_type": "execute_result"
                }
            ],
            "source": "%%sql \nSELECT DISTINCT LAUNCH_SITE \nFROM SPACEXTBL;"
        },
        {
            "cell_type": "markdown",
            "metadata": {},
            "source": "## Task 2"
        },
        {
            "cell_type": "markdown",
            "metadata": {},
            "source": "Display 5 records where launch sites begin with the string 'CCA'"
        },
        {
            "cell_type": "code",
            "execution_count": 8,
            "metadata": {},
            "outputs": [
                {
                    "name": "stdout",
                    "output_type": "stream",
                    "text": " * ibm_db_sa://yky11434:***@fbd88901-ebdb-4a4f-a32e-9822b9fb237b.c1ogj3sd0tgtu0lqde00.databases.appdomain.cloud:32731/bludb\nDone.\n"
                },
                {
                    "data": {
                        "text/html": "<table>\n    <tr>\n        <th>launch_site</th>\n    </tr>\n    <tr>\n        <td>CCAFS LC-40</td>\n    </tr>\n    <tr>\n        <td>CCAFS LC-40</td>\n    </tr>\n    <tr>\n        <td>CCAFS LC-40</td>\n    </tr>\n    <tr>\n        <td>CCAFS LC-40</td>\n    </tr>\n    <tr>\n        <td>CCAFS LC-40</td>\n    </tr>\n</table>",
                        "text/plain": "[('CCAFS LC-40',),\n ('CCAFS LC-40',),\n ('CCAFS LC-40',),\n ('CCAFS LC-40',),\n ('CCAFS LC-40',)]"
                    },
                    "execution_count": 8,
                    "metadata": {},
                    "output_type": "execute_result"
                }
            ],
            "source": "%%sql\nSELECT LAUNCH_SITE \nFROM SPACEXTBL \nWHERE LAUNCH_SITE LIKE 'CCA%'\nLIMIT 5;"
        },
        {
            "cell_type": "markdown",
            "metadata": {},
            "source": "## Task 3"
        },
        {
            "cell_type": "markdown",
            "metadata": {},
            "source": "Display the total payload mass carried by boosters launched by NASA (CRS)"
        },
        {
            "cell_type": "code",
            "execution_count": 24,
            "metadata": {},
            "outputs": [
                {
                    "name": "stdout",
                    "output_type": "stream",
                    "text": " * ibm_db_sa://yky11434:***@fbd88901-ebdb-4a4f-a32e-9822b9fb237b.c1ogj3sd0tgtu0lqde00.databases.appdomain.cloud:32731/bludb\nDone.\n"
                },
                {
                    "data": {
                        "text/html": "<table>\n    <tr>\n        <th>total_payload_mass</th>\n    </tr>\n    <tr>\n        <td>45596</td>\n    </tr>\n</table>",
                        "text/plain": "[(45596,)]"
                    },
                    "execution_count": 24,
                    "metadata": {},
                    "output_type": "execute_result"
                }
            ],
            "source": "%%sql \nSELECT SUM(PAYLOAD_MASS__KG_) AS TOTAL_PAYLOAD_MASS\nFROM SPACEXTBL\nWHERE CUSTOMER LIKE 'NASA (CRS)'\nGROUP BY CUSTOMER;"
        },
        {
            "cell_type": "markdown",
            "metadata": {},
            "source": "## Task 4"
        },
        {
            "cell_type": "markdown",
            "metadata": {},
            "source": "Display average payload mass carried by booster version F9 v1.1"
        },
        {
            "cell_type": "code",
            "execution_count": 26,
            "metadata": {},
            "outputs": [
                {
                    "name": "stdout",
                    "output_type": "stream",
                    "text": " * ibm_db_sa://yky11434:***@fbd88901-ebdb-4a4f-a32e-9822b9fb237b.c1ogj3sd0tgtu0lqde00.databases.appdomain.cloud:32731/bludb\nDone.\n"
                },
                {
                    "data": {
                        "text/html": "<table>\n    <tr>\n        <th>average_payload_mass</th>\n    </tr>\n    <tr>\n        <td>2928</td>\n    </tr>\n</table>",
                        "text/plain": "[(2928,)]"
                    },
                    "execution_count": 26,
                    "metadata": {},
                    "output_type": "execute_result"
                }
            ],
            "source": "%%sql\nSELECT AVG(PAYLOAD_MASS__KG_) AS AVERAGE_PAYLOAD_MASS\nFROM SPACEXTBL\nWHERE BOOSTER_VERSION LIKE 'F9 v1.1'\nGROUP BY BOOSTER_VERSION;"
        },
        {
            "cell_type": "markdown",
            "metadata": {},
            "source": "## Task 5"
        },
        {
            "cell_type": "markdown",
            "metadata": {},
            "source": "List the date when the first successful landing outcome in ground pad was acheived"
        },
        {
            "cell_type": "code",
            "execution_count": 28,
            "metadata": {},
            "outputs": [
                {
                    "name": "stdout",
                    "output_type": "stream",
                    "text": " * ibm_db_sa://yky11434:***@fbd88901-ebdb-4a4f-a32e-9822b9fb237b.c1ogj3sd0tgtu0lqde00.databases.appdomain.cloud:32731/bludb\nDone.\n"
                },
                {
                    "data": {
                        "text/html": "<table>\n    <tr>\n        <th>landing__outcome</th>\n        <th>first_successful_landing</th>\n    </tr>\n    <tr>\n        <td>Success (ground pad)</td>\n        <td>2015-12-22</td>\n    </tr>\n</table>",
                        "text/plain": "[('Success (ground pad)', datetime.date(2015, 12, 22))]"
                    },
                    "execution_count": 28,
                    "metadata": {},
                    "output_type": "execute_result"
                }
            ],
            "source": "%%sql\nSELECT LANDING__OUTCOME, MIN(DATE) AS FIRST_SUCCESSFUL_LANDING\nFROM SPACEXTBL\nWHERE LANDING__OUTCOME LIKE 'Success (ground pad)'\nGROUP BY LANDING__OUTCOME\nORDER BY FIRST_SUCCESSFUL_LANDING\nfetch first 1 rows only;"
        },
        {
            "cell_type": "markdown",
            "metadata": {},
            "source": "## Task 6"
        },
        {
            "cell_type": "markdown",
            "metadata": {},
            "source": "List the names of the boosters which have success in drone ship and have payload mass greater than 4000 but less than 6000"
        },
        {
            "cell_type": "code",
            "execution_count": 46,
            "metadata": {},
            "outputs": [
                {
                    "name": "stdout",
                    "output_type": "stream",
                    "text": " * ibm_db_sa://yky11434:***@fbd88901-ebdb-4a4f-a32e-9822b9fb237b.c1ogj3sd0tgtu0lqde00.databases.appdomain.cloud:32731/bludb\nDone.\n"
                },
                {
                    "data": {
                        "text/html": "<table>\n    <tr>\n        <th>booster_version</th>\n        <th>landing__outcome</th>\n        <th>payload_mass__kg_</th>\n    </tr>\n    <tr>\n        <td>F9 FT B1022</td>\n        <td>Success (drone ship)</td>\n        <td>4696</td>\n    </tr>\n    <tr>\n        <td>F9 FT B1026</td>\n        <td>Success (drone ship)</td>\n        <td>4600</td>\n    </tr>\n    <tr>\n        <td>F9 FT  B1021.2</td>\n        <td>Success (drone ship)</td>\n        <td>5300</td>\n    </tr>\n    <tr>\n        <td>F9 FT  B1031.2</td>\n        <td>Success (drone ship)</td>\n        <td>5200</td>\n    </tr>\n</table>",
                        "text/plain": "[('F9 FT B1022', 'Success (drone ship)', 4696),\n ('F9 FT B1026', 'Success (drone ship)', 4600),\n ('F9 FT  B1021.2', 'Success (drone ship)', 5300),\n ('F9 FT  B1031.2', 'Success (drone ship)', 5200)]"
                    },
                    "execution_count": 46,
                    "metadata": {},
                    "output_type": "execute_result"
                }
            ],
            "source": "%%sql\nSELECT BOOSTER_VERSION,LANDING__OUTCOME,PAYLOAD_MASS__KG_\nFROM SPACEXTBL\nWHERE (PAYLOAD_MASS__KG_ BETWEEN 4000 AND 6000) AND LANDING__OUTCOME LIKE 'Success (drone ship)';"
        },
        {
            "cell_type": "markdown",
            "metadata": {},
            "source": "## Task 7"
        },
        {
            "cell_type": "markdown",
            "metadata": {},
            "source": "List the total number of successful and failure mission outcomes"
        },
        {
            "cell_type": "code",
            "execution_count": 52,
            "metadata": {},
            "outputs": [
                {
                    "name": "stdout",
                    "output_type": "stream",
                    "text": " * ibm_db_sa://yky11434:***@fbd88901-ebdb-4a4f-a32e-9822b9fb237b.c1ogj3sd0tgtu0lqde00.databases.appdomain.cloud:32731/bludb\nDone.\n"
                },
                {
                    "data": {
                        "text/html": "<table>\n    <tr>\n        <th>mission_outcome</th>\n        <th>total_success_failure_mission_outcomes</th>\n    </tr>\n    <tr>\n        <td>Failure (in flight)</td>\n        <td>1</td>\n    </tr>\n    <tr>\n        <td>Success</td>\n        <td>99</td>\n    </tr>\n    <tr>\n        <td>Success (payload status unclear)</td>\n        <td>1</td>\n    </tr>\n</table>",
                        "text/plain": "[('Failure (in flight)', 1),\n ('Success', 99),\n ('Success (payload status unclear)', 1)]"
                    },
                    "execution_count": 52,
                    "metadata": {},
                    "output_type": "execute_result"
                }
            ],
            "source": "%%sql\nSELECT MISSION_OUTCOME, COUNT(*) AS TOTAL_SUCCESS_FAILURE_MISSION_OUTCOMES\nFROM SPACEXTBL\nGROUP BY MISSION_OUTCOME;"
        },
        {
            "cell_type": "markdown",
            "metadata": {},
            "source": "## Task 8"
        },
        {
            "cell_type": "markdown",
            "metadata": {},
            "source": "List the names of the booster_versions which have carried the maximum payload mass. Use a subquery"
        },
        {
            "cell_type": "code",
            "execution_count": 57,
            "metadata": {},
            "outputs": [
                {
                    "name": "stdout",
                    "output_type": "stream",
                    "text": " * ibm_db_sa://yky11434:***@fbd88901-ebdb-4a4f-a32e-9822b9fb237b.c1ogj3sd0tgtu0lqde00.databases.appdomain.cloud:32731/bludb\nDone.\n"
                },
                {
                    "data": {
                        "text/html": "<table>\n    <tr>\n        <th>booster_version</th>\n    </tr>\n    <tr>\n        <td>F9 B5 B1048.4</td>\n    </tr>\n    <tr>\n        <td>F9 B5 B1049.4</td>\n    </tr>\n    <tr>\n        <td>F9 B5 B1051.3</td>\n    </tr>\n    <tr>\n        <td>F9 B5 B1056.4</td>\n    </tr>\n    <tr>\n        <td>F9 B5 B1048.5</td>\n    </tr>\n    <tr>\n        <td>F9 B5 B1051.4</td>\n    </tr>\n    <tr>\n        <td>F9 B5 B1049.5</td>\n    </tr>\n    <tr>\n        <td>F9 B5 B1060.2</td>\n    </tr>\n    <tr>\n        <td>F9 B5 B1058.3</td>\n    </tr>\n    <tr>\n        <td>F9 B5 B1051.6</td>\n    </tr>\n    <tr>\n        <td>F9 B5 B1060.3</td>\n    </tr>\n    <tr>\n        <td>F9 B5 B1049.7</td>\n    </tr>\n</table>",
                        "text/plain": "[('F9 B5 B1048.4',),\n ('F9 B5 B1049.4',),\n ('F9 B5 B1051.3',),\n ('F9 B5 B1056.4',),\n ('F9 B5 B1048.5',),\n ('F9 B5 B1051.4',),\n ('F9 B5 B1049.5',),\n ('F9 B5 B1060.2',),\n ('F9 B5 B1058.3',),\n ('F9 B5 B1051.6',),\n ('F9 B5 B1060.3',),\n ('F9 B5 B1049.7',)]"
                    },
                    "execution_count": 57,
                    "metadata": {},
                    "output_type": "execute_result"
                }
            ],
            "source": "%%sql\nSELECT BOOSTER_VERSION \nFROM SPACEXTBL \nWHERE PAYLOAD_MASS__KG_ = (SELECT MAX(PAYLOAD_MASS__KG_) FROM SPACEXTBL);"
        },
        {
            "cell_type": "markdown",
            "metadata": {},
            "source": "## Task 9"
        },
        {
            "cell_type": "markdown",
            "metadata": {},
            "source": "List the failed landing_outcomes in drone ship, their booster versions, and launch site names for in year 2015"
        },
        {
            "cell_type": "code",
            "execution_count": 59,
            "metadata": {},
            "outputs": [
                {
                    "name": "stdout",
                    "output_type": "stream",
                    "text": " * ibm_db_sa://yky11434:***@fbd88901-ebdb-4a4f-a32e-9822b9fb237b.c1ogj3sd0tgtu0lqde00.databases.appdomain.cloud:32731/bludb\nDone.\n"
                },
                {
                    "data": {
                        "text/html": "<table>\n    <tr>\n        <th>booster_version</th>\n        <th>launch_site</th>\n        <th>landing__outcome</th>\n        <th>DATE</th>\n    </tr>\n    <tr>\n        <td>F9 v1.1 B1012</td>\n        <td>CCAFS LC-40</td>\n        <td>Failure (drone ship)</td>\n        <td>2015-01-10</td>\n    </tr>\n    <tr>\n        <td>F9 v1.1 B1015</td>\n        <td>CCAFS LC-40</td>\n        <td>Failure (drone ship)</td>\n        <td>2015-04-14</td>\n    </tr>\n</table>",
                        "text/plain": "[('F9 v1.1 B1012', 'CCAFS LC-40', 'Failure (drone ship)', datetime.date(2015, 1, 10)),\n ('F9 v1.1 B1015', 'CCAFS LC-40', 'Failure (drone ship)', datetime.date(2015, 4, 14))]"
                    },
                    "execution_count": 59,
                    "metadata": {},
                    "output_type": "execute_result"
                }
            ],
            "source": "%%sql\nSELECT BOOSTER_VERSION,LAUNCH_SITE,LANDING__OUTCOME,DATE\nFROM SPACEXTBL\nWHERE DATE LIKE '2015%' AND LANDING__OUTCOME LIKE 'Failure (drone ship)';"
        },
        {
            "cell_type": "markdown",
            "metadata": {},
            "source": "## Task 10"
        },
        {
            "cell_type": "markdown",
            "metadata": {},
            "source": "Rank the count of landing outcomes (such as Failure (drone ship) or Success (ground pad)) between the date 2010-06-04 and 2017-03-20, in descending order"
        },
        {
            "cell_type": "code",
            "execution_count": 64,
            "metadata": {},
            "outputs": [
                {
                    "name": "stdout",
                    "output_type": "stream",
                    "text": " * ibm_db_sa://yky11434:***@fbd88901-ebdb-4a4f-a32e-9822b9fb237b.c1ogj3sd0tgtu0lqde00.databases.appdomain.cloud:32731/bludb\nDone.\n"
                },
                {
                    "data": {
                        "text/html": "<table>\n    <tr>\n        <th>landing__outcome</th>\n        <th>landing_outcome_count</th>\n    </tr>\n    <tr>\n        <td>No attempt</td>\n        <td>10</td>\n    </tr>\n    <tr>\n        <td>Failure (drone ship)</td>\n        <td>5</td>\n    </tr>\n    <tr>\n        <td>Success (drone ship)</td>\n        <td>5</td>\n    </tr>\n    <tr>\n        <td>Controlled (ocean)</td>\n        <td>3</td>\n    </tr>\n    <tr>\n        <td>Success (ground pad)</td>\n        <td>3</td>\n    </tr>\n    <tr>\n        <td>Failure (parachute)</td>\n        <td>2</td>\n    </tr>\n    <tr>\n        <td>Uncontrolled (ocean)</td>\n        <td>2</td>\n    </tr>\n    <tr>\n        <td>Precluded (drone ship)</td>\n        <td>1</td>\n    </tr>\n</table>",
                        "text/plain": "[('No attempt', 10),\n ('Failure (drone ship)', 5),\n ('Success (drone ship)', 5),\n ('Controlled (ocean)', 3),\n ('Success (ground pad)', 3),\n ('Failure (parachute)', 2),\n ('Uncontrolled (ocean)', 2),\n ('Precluded (drone ship)', 1)]"
                    },
                    "execution_count": 64,
                    "metadata": {},
                    "output_type": "execute_result"
                }
            ],
            "source": "%%sql\nSELECT LANDING__OUTCOME, COUNT(LANDING__OUTCOME) AS LANDING_OUTCOME_COUNT\nFROM SPACEXTBL \nWHERE DATE BETWEEN '2010-06-04' AND '2017-03-20' \nGROUP BY LANDING__OUTCOME\nORDER BY COUNT(LANDING__OUTCOME) DESC;"
        }
    ],
    "metadata": {
        "kernelspec": {
            "display_name": "Python 3.8",
            "language": "python",
            "name": "python3"
        },
        "language_info": {
            "codemirror_mode": {
                "name": "ipython",
                "version": 3
            },
            "file_extension": ".py",
            "mimetype": "text/x-python",
            "name": "python",
            "nbconvert_exporter": "python",
            "pygments_lexer": "ipython3",
            "version": "3.8.11"
        }
    },
    "nbformat": 4,
    "nbformat_minor": 1
}